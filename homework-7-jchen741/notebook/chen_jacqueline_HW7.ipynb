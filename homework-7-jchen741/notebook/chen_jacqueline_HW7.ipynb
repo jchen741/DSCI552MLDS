{
 "cells": [
  {
   "cell_type": "markdown",
   "metadata": {},
   "source": [
    "<center><h1>chen_jacqueline_HW7</h1></center>\n",
    "<br>\n",
    "<br>\n"
   ]
  },
  {
   "cell_type": "markdown",
   "metadata": {},
   "source": [
    "Name: Jacqueline Chen\n",
    "<br>\n",
    "Github Username: jchen741\n",
    "<br>\n",
    "USC ID: 7983593463"
   ]
  },
  {
   "cell_type": "markdown",
   "metadata": {},
   "source": [
    "USING ONE LATE DAY"
   ]
  },
  {
   "cell_type": "markdown",
   "metadata": {},
   "source": [
    "## 1. Multi-class and Multi-Label Classification Using Support Vector Machines"
   ]
  },
  {
   "cell_type": "markdown",
   "metadata": {},
   "source": [
    "Import packages"
   ]
  },
  {
   "cell_type": "code",
   "execution_count": 3,
   "metadata": {},
   "outputs": [],
   "source": [
    "import pandas as pd\n",
    "from sklearn.model_selection import train_test_split\n",
    "from sklearn.svm import SVC\n",
    "from sklearn.model_selection import GridSearchCV\n",
    "from sklearn.model_selection import StratifiedKFold\n",
    "from sklearn.preprocessing import StandardScaler\n",
    "from sklearn.pipeline import Pipeline\n",
    "from imblearn.over_sampling import SMOTE\n",
    "from imblearn.pipeline import Pipeline as imbpipe\n",
    "from sklearn.metrics import hamming_loss\n",
    "import numpy as np\n",
    "from sklearn.pipeline import Pipeline\n",
    "from sklearn.svm import LinearSVC\n",
    "from sklearn.cluster import KMeans\n",
    "from sklearn.metrics import silhouette_score"
   ]
  },
  {
   "cell_type": "markdown",
   "metadata": {},
   "source": [
    "### (a) Download the Anuran Calls (MFCCs) Data Set"
   ]
  },
  {
   "cell_type": "code",
   "execution_count": 4,
   "metadata": {},
   "outputs": [],
   "source": [
    "data=pd.read_csv('../data/Anuran Calls (MFCCs)/Frogs_MFCCs.csv')\n",
    "X_train,X_test,y_train,y_test=train_test_split(data.iloc[:,:-4],data[['Family','Genus','Species']],random_state=42,test_size=0.3)"
   ]
  },
  {
   "cell_type": "markdown",
   "metadata": {},
   "source": [
    "### (b) Train a classifier for each label"
   ]
  },
  {
   "cell_type": "markdown",
   "metadata": {},
   "source": [
    "#### (i) Research"
   ]
  },
  {
   "cell_type": "markdown",
   "metadata": {},
   "source": [
    "Exact Match Ratio (EMR): measures percentage of instances where the classifier predicts correctly, exactly matching the true labels.\n",
    "\n",
    "Hamming Loss/Score: fraction of labels that are incorrectly predicted, averaged over all the instances. hamming score is the complement of hamming loss. hamming score calculates the mismatched distance between the predicted and true value and then sums it up as an average"
   ]
  },
  {
   "cell_type": "markdown",
   "metadata": {},
   "source": [
    "#### (ii) Train a SVM for each of the labels"
   ]
  },
  {
   "cell_type": "code",
   "execution_count": 5,
   "metadata": {},
   "outputs": [],
   "source": [
    "def hamming_loss_(y_test,y_pred):\n",
    "    outputs = []\n",
    "    cols = y_test.columns\n",
    "    for col in cols:\n",
    "        outputs.append(hamming_loss(y_test[col],y_pred[col]))\n",
    "    return np.mean(outputs)"
   ]
  },
  {
   "cell_type": "code",
   "execution_count": 6,
   "metadata": {},
   "outputs": [],
   "source": [
    "def EMR(y_test,y_pred):\n",
    "    y_pred = pd.DataFrame.from_dict(y_pred)\n",
    "    return np.all(y_pred.to_numpy() == y_test.to_numpy(),axis=1).mean()        "
   ]
  },
  {
   "cell_type": "code",
   "execution_count": 7,
   "metadata": {},
   "outputs": [
    {
     "name": "stdout",
     "output_type": "stream",
     "text": [
      "label= Family best score= 0.9932496292088737 best params= {'C': 10, 'gamma': 1.9}\n",
      "label= Genus best score= 0.9908647322414719 best params= {'C': 100, 'gamma': 1.5}\n",
      "label= Species best score= 0.9904675123860013 best params= {'C': 10, 'gamma': 1.8}\n",
      "EMR= 0.9874942102825383\n",
      "hamming loss= 0.008337193144974525\n"
     ]
    }
   ],
   "source": [
    "y_pred=dict()\n",
    "cols=['Family','Genus','Species']\n",
    "\n",
    "for col in cols:\n",
    "    svc=SVC(kernel='rbf',decision_function_shape='ovr')\n",
    "    paramgrid={'C':[10**i for i in range (-3,3)],'gamma':[i/10 for i in range(1,20)]}\n",
    "    stratified_cv=StratifiedKFold(n_splits = 10)\n",
    "    clf=GridSearchCV(svc, param_grid=paramgrid,cv=stratified_cv)\n",
    "    clf.fit(X_train,y_train[col])\n",
    "    print('label=', col, 'best score=', clf.best_score_, 'best params=', clf.best_params_)\n",
    "    y_pred[col]=clf.predict(X_test)\n",
    "print('EMR=', EMR(y_test,y_pred))\n",
    "print('hamming loss=', hamming_loss_(y_test,y_pred))\n"
   ]
  },
  {
   "attachments": {},
   "cell_type": "markdown",
   "metadata": {},
   "source": [
    "#### (iii) Repeat 1(b)ii with L1-penalized SVMs"
   ]
  },
  {
   "cell_type": "code",
   "execution_count": 8,
   "metadata": {},
   "outputs": [
    {
     "name": "stdout",
     "output_type": "stream",
     "text": [
      "label= Family best score= 0.9406288459717882 best params= {'linear__C': 1}\n",
      "label= Genus best score= 0.9527422764997319 best params= {'linear__C': 10}\n",
      "label= Species best score= 0.9602847202499291 best params= {'linear__C': 10}\n",
      "EMR= 0.9129226493747105\n",
      "hamming loss= 0.05681642735834491\n"
     ]
    }
   ],
   "source": [
    "y_pred=dict()\n",
    "# using linear per convention mentioned in hw assignment footnotes\n",
    "\n",
    "for col in cols:\n",
    "    linear_svc=LinearSVC(penalty='l1',loss='squared_hinge',dual=False,max_iter=1000000)\n",
    "    pipe=Pipeline([('scale',StandardScaler()),('linear',linear_svc)])\n",
    "    paramgrid={'linear__C':[10**i for i in range (-3,3)]}\n",
    "    stratified_cv=StratifiedKFold(n_splits = 10)\n",
    "    clf=GridSearchCV(pipe, param_grid=paramgrid,cv=stratified_cv)\n",
    "    clf.fit(X_train,y_train[col])\n",
    "    print('label=', col, 'best score=', clf.best_score_, 'best params=', clf.best_params_)\n",
    "    y_pred[col]=clf.predict(X_test)\n",
    "print('EMR=', EMR(y_test,y_pred))\n",
    "print('hamming loss=', hamming_loss_(y_test,y_pred))"
   ]
  },
  {
   "attachments": {},
   "cell_type": "markdown",
   "metadata": {},
   "source": [
    "#### (iv) Repeat 1(b)iii by using SMOTE or any other method for imbalance"
   ]
  },
  {
   "cell_type": "code",
   "execution_count": 9,
   "metadata": {},
   "outputs": [
    {
     "name": "stdout",
     "output_type": "stream",
     "text": [
      "label= Family best score= 0.9219662185616461 best params= {'linear__C': 1}\n",
      "label= Genus best score= 0.9142214175265865 best params= {'linear__C': 100}\n",
      "label= Species best score= 0.9569081542491086 best params= {'linear__C': 10}\n",
      "EMR= 0.8578045391384901\n",
      "hamming loss= 0.07534352323606608\n"
     ]
    }
   ],
   "source": [
    "y_pred=dict()\n",
    "# using smote to combat class imbalance\n",
    "\n",
    "for col in cols:\n",
    "    linear_svc=LinearSVC(penalty='l1',loss='squared_hinge',dual=False,max_iter=1000000)\n",
    "    pipe=imbpipe([('smote',SMOTE()),('scale',StandardScaler()),('linear',linear_svc)])\n",
    "    paramgrid={'linear__C':[10**i for i in range (-3,3)]}\n",
    "    stratified_cv=StratifiedKFold(n_splits = 10)\n",
    "    clf=GridSearchCV(pipe, param_grid=paramgrid,cv=stratified_cv)\n",
    "    clf.fit(X_train,y_train[col])\n",
    "    print('label=', col, 'best score=', clf.best_score_, 'best params=', clf.best_params_)\n",
    "    y_pred[col]=clf.predict(X_test)\n",
    "print('EMR=', EMR(y_test,y_pred))\n",
    "print('hamming loss=', hamming_loss_(y_test,y_pred))"
   ]
  },
  {
   "cell_type": "markdown",
   "metadata": {},
   "source": [
    "Results: Gaussian SVM from a is better than L1 penalized, which is better than SMOTE for both the EMR and hamming loss evaluation metrics"
   ]
  },
  {
   "cell_type": "markdown",
   "metadata": {},
   "source": [
    "## 2. K-Means Clustering on a Multi-Class and Multi-Label Data Set"
   ]
  },
  {
   "cell_type": "markdown",
   "metadata": {},
   "source": [
    "### (a) Use k-means clustering"
   ]
  },
  {
   "cell_type": "code",
   "execution_count": 10,
   "metadata": {},
   "outputs": [],
   "source": [
    "df=data.iloc[:,:-1]\n",
    "X, y=df.iloc[:,:-3],data[cols]\n",
    "\n",
    "def cluster_hamming_loss(y_test,y_pred):\n",
    "    outputs=[]\n",
    "    cols=y_pred.keys()\n",
    "    for col in cols:\n",
    "        outputs.append(hamming_loss([y_test[col]],[y_pred[col]]))\n",
    "    return np.mean(outputs)\n",
    "def cluster_hamming_distance(y_test,y_pred):\n",
    "    outputs=[]\n",
    "    cols=y_pred.keys()\n",
    "    for col in cols:\n",
    "        outputs.append(hamming_loss([y_test[col]],[y_pred[col]]))\n",
    "    return np.sum(outputs)\n",
    "def EMR_(y_test,y_pred):\n",
    "    y_pred=pd.DataFrame.from_dict(y_pred)\n",
    "    return np.all(y_pred.to_numpy() == y_test.to_numpy(),axis=1).mean()\n",
    "def my_best_k():\n",
    "    clusters=range(2,5)\n",
    "    best_k,best_score = 1,0\n",
    "    for cluster in clusters:\n",
    "        clusterer=KMeans(n_clusters=cluster,init='random')\n",
    "        pred=clusterer.fit_predict(X)\n",
    "        center=clusterer.cluster_centers_\n",
    "        score=silhouette_score(X,pred)\n",
    "        if score>best_score:\n",
    "            best_score = score\n",
    "            best_k = cluster\n",
    "    return best_k,best_score"
   ]
  },
  {
   "cell_type": "markdown",
   "metadata": {},
   "source": [
    "### (b) Determine which family is the majority"
   ]
  },
  {
   "cell_type": "markdown",
   "metadata": {},
   "source": [
    "### (c) Calculate the average Hamming distance, Hamming score, and Hamming loss"
   ]
  },
  {
   "cell_type": "code",
   "execution_count": 11,
   "metadata": {},
   "outputs": [
    {
     "name": "stdout",
     "output_type": "stream",
     "text": [
      "0 :\n",
      "best k= 4  with score of 0.3787509343305295\n",
      "majority labels= {0: {'Family': 'Hylidae', 'Genus': 'Hypsiboas', 'Species': 'HypsiboasCordobae'}, 1: {'Family': 'Leptodactylidae', 'Genus': 'Adenomera', 'Species': 'AdenomeraHylaedactylus'}, 2: {'Family': 'Dendrobatidae', 'Genus': 'Ameerega', 'Species': 'Ameeregatrivittata'}, 3: {'Family': 'Hylidae', 'Genus': 'Hypsiboas', 'Species': 'HypsiboasCinerascens'}}\n",
      "avg hamming loss= 0.22233032198285846\n",
      "avg hamming distance= 0.6669909659485754\n",
      "avg hamming score 0.7776696780171415\n",
      "1 :\n",
      "best k= 4  with score of 0.3787509343305295\n",
      "majority labels= {0: {'Family': 'Leptodactylidae', 'Genus': 'Adenomera', 'Species': 'AdenomeraHylaedactylus'}, 1: {'Family': 'Hylidae', 'Genus': 'Hypsiboas', 'Species': 'HypsiboasCordobae'}, 2: {'Family': 'Hylidae', 'Genus': 'Hypsiboas', 'Species': 'HypsiboasCinerascens'}, 3: {'Family': 'Dendrobatidae', 'Genus': 'Ameerega', 'Species': 'Ameeregatrivittata'}}\n",
      "avg hamming loss= 0.22242297892054666\n",
      "avg hamming distance= 0.66726893676164\n",
      "avg hamming score 0.7775770210794534\n",
      "2 :\n",
      "best k= 4  with score of 0.3787509343305295\n",
      "majority labels= {0: {'Family': 'Hylidae', 'Genus': 'Hypsiboas', 'Species': 'HypsiboasCordobae'}, 1: {'Family': 'Leptodactylidae', 'Genus': 'Adenomera', 'Species': 'AdenomeraHylaedactylus'}, 2: {'Family': 'Dendrobatidae', 'Genus': 'Ameerega', 'Species': 'Ameeregatrivittata'}, 3: {'Family': 'Hylidae', 'Genus': 'Hypsiboas', 'Species': 'HypsiboasCinerascens'}}\n",
      "avg hamming loss= 0.22242297892054666\n",
      "avg hamming distance= 0.66726893676164\n",
      "avg hamming score 0.7775770210794534\n",
      "3 :\n",
      "best k= 4  with score of 0.37888514720477384\n",
      "majority labels= {0: {'Family': 'Leptodactylidae', 'Genus': 'Adenomera', 'Species': 'AdenomeraHylaedactylus'}, 1: {'Family': 'Hylidae', 'Genus': 'Hypsiboas', 'Species': 'HypsiboasCordobae'}, 2: {'Family': 'Hylidae', 'Genus': 'Hypsiboas', 'Species': 'HypsiboasCinerascens'}, 3: {'Family': 'Dendrobatidae', 'Genus': 'Ameerega', 'Species': 'Ameeregatrivittata'}}\n",
      "avg hamming loss= 0.22242297892054666\n",
      "avg hamming distance= 0.66726893676164\n",
      "avg hamming score 0.7775770210794534\n",
      "4 :\n",
      "best k= 4  with score of 0.37863353074850936\n",
      "majority labels= {0: {'Family': 'Leptodactylidae', 'Genus': 'Adenomera', 'Species': 'AdenomeraHylaedactylus'}, 1: {'Family': 'Hylidae', 'Genus': 'Hypsiboas', 'Species': 'HypsiboasCordobae'}, 2: {'Family': 'Hylidae', 'Genus': 'Hypsiboas', 'Species': 'HypsiboasCinerascens'}, 3: {'Family': 'Dendrobatidae', 'Genus': 'Ameerega', 'Species': 'Ameeregatrivittata'}}\n",
      "avg hamming loss= 0.22242297892054666\n",
      "avg hamming distance= 0.66726893676164\n",
      "avg hamming score 0.7775770210794534\n",
      "5 :\n",
      "best k= 3  with score of 0.3676896336636567\n",
      "majority labels= {0: {'Family': 'Hylidae', 'Genus': 'Hypsiboas', 'Species': 'HypsiboasCordobae'}, 1: {'Family': 'Leptodactylidae', 'Genus': 'Adenomera', 'Species': 'AdenomeraHylaedactylus'}, 2: {'Family': 'Hylidae', 'Genus': 'Hypsiboas', 'Species': 'HypsiboasCordobae'}}\n",
      "avg hamming loss= 0.2967801714153347\n",
      "avg hamming distance= 0.8903405142460041\n",
      "avg hamming score 0.7032198285846654\n",
      "6 :\n",
      "best k= 4  with score of 0.3787509343305295\n",
      "majority labels= {0: {'Family': 'Hylidae', 'Genus': 'Hypsiboas', 'Species': 'HypsiboasCordobae'}, 1: {'Family': 'Leptodactylidae', 'Genus': 'Adenomera', 'Species': 'AdenomeraHylaedactylus'}, 2: {'Family': 'Dendrobatidae', 'Genus': 'Ameerega', 'Species': 'Ameeregatrivittata'}, 3: {'Family': 'Hylidae', 'Genus': 'Hypsiboas', 'Species': 'HypsiboasCinerascens'}}\n",
      "avg hamming loss= 0.22242297892054666\n",
      "avg hamming distance= 0.66726893676164\n",
      "avg hamming score 0.7775770210794534\n",
      "7 :\n",
      "best k= 4  with score of 0.3787509343305295\n",
      "majority labels= {0: {'Family': 'Dendrobatidae', 'Genus': 'Ameerega', 'Species': 'Ameeregatrivittata'}, 1: {'Family': 'Leptodactylidae', 'Genus': 'Adenomera', 'Species': 'AdenomeraHylaedactylus'}, 2: {'Family': 'Hylidae', 'Genus': 'Hypsiboas', 'Species': 'HypsiboasCordobae'}, 3: {'Family': 'Hylidae', 'Genus': 'Hypsiboas', 'Species': 'HypsiboasCinerascens'}}\n",
      "avg hamming loss= 0.22246930738939075\n",
      "avg hamming distance= 0.6674079221681724\n",
      "avg hamming score 0.7775306926106093\n",
      "8 :\n",
      "best k= 4  with score of 0.37863353074850936\n",
      "majority labels= {0: {'Family': 'Hylidae', 'Genus': 'Hypsiboas', 'Species': 'HypsiboasCinerascens'}, 1: {'Family': 'Leptodactylidae', 'Genus': 'Adenomera', 'Species': 'AdenomeraHylaedactylus'}, 2: {'Family': 'Dendrobatidae', 'Genus': 'Ameerega', 'Species': 'Ameeregatrivittata'}, 3: {'Family': 'Hylidae', 'Genus': 'Hypsiboas', 'Species': 'HypsiboasCordobae'}}\n",
      "avg hamming loss= 0.22242297892054666\n",
      "avg hamming distance= 0.66726893676164\n",
      "avg hamming score 0.7775770210794534\n",
      "9 :\n",
      "best k= 4  with score of 0.3787509343305295\n",
      "majority labels= {0: {'Family': 'Leptodactylidae', 'Genus': 'Adenomera', 'Species': 'AdenomeraAndre'}, 1: {'Family': 'Leptodactylidae', 'Genus': 'Adenomera', 'Species': 'AdenomeraHylaedactylus'}, 2: {'Family': 'Hylidae', 'Genus': 'Hypsiboas', 'Species': 'HypsiboasCinerascens'}, 3: {'Family': 'Hylidae', 'Genus': 'Hypsiboas', 'Species': 'HypsiboasCordobae'}}\n",
      "avg hamming loss= 0.23405142460041695\n",
      "avg hamming distance= 0.7021542738012508\n",
      "avg hamming score 0.765948575399583\n",
      "10 :\n",
      "best k= 4  with score of 0.3787509343305295\n",
      "majority labels= {0: {'Family': 'Leptodactylidae', 'Genus': 'Adenomera', 'Species': 'AdenomeraHylaedactylus'}, 1: {'Family': 'Dendrobatidae', 'Genus': 'Ameerega', 'Species': 'Ameeregatrivittata'}, 2: {'Family': 'Hylidae', 'Genus': 'Hypsiboas', 'Species': 'HypsiboasCinerascens'}, 3: {'Family': 'Hylidae', 'Genus': 'Hypsiboas', 'Species': 'HypsiboasCordobae'}}\n",
      "avg hamming loss= 0.22242297892054666\n",
      "avg hamming distance= 0.66726893676164\n",
      "avg hamming score 0.7775770210794534\n",
      "11 :\n",
      "best k= 4  with score of 0.374709713992453\n",
      "majority labels= {0: {'Family': 'Leptodactylidae', 'Genus': 'Adenomera', 'Species': 'AdenomeraHylaedactylus'}, 1: {'Family': 'Hylidae', 'Genus': 'Hypsiboas', 'Species': 'HypsiboasCinerascens'}, 2: {'Family': 'Hylidae', 'Genus': 'Hypsiboas', 'Species': 'HypsiboasCordobae'}, 3: {'Family': 'Dendrobatidae', 'Genus': 'Ameerega', 'Species': 'Ameeregatrivittata'}}\n",
      "avg hamming loss= 0.22242297892054666\n",
      "avg hamming distance= 0.66726893676164\n",
      "avg hamming score 0.7775770210794534\n",
      "12 :\n",
      "best k= 4  with score of 0.3788646212055977\n",
      "majority labels= {0: {'Family': 'Hylidae', 'Genus': 'Hypsiboas', 'Species': 'HypsiboasCordobae'}, 1: {'Family': 'Leptodactylidae', 'Genus': 'Adenomera', 'Species': 'AdenomeraHylaedactylus'}, 2: {'Family': 'Hylidae', 'Genus': 'Hypsiboas', 'Species': 'HypsiboasCinerascens'}, 3: {'Family': 'Dendrobatidae', 'Genus': 'Ameerega', 'Species': 'Ameeregatrivittata'}}\n",
      "avg hamming loss= 0.22242297892054666\n",
      "avg hamming distance= 0.66726893676164\n",
      "avg hamming score 0.7775770210794534\n",
      "13 :\n",
      "best k= 4  with score of 0.3787509343305295\n",
      "majority labels= {0: {'Family': 'Leptodactylidae', 'Genus': 'Adenomera', 'Species': 'AdenomeraHylaedactylus'}, 1: {'Family': 'Dendrobatidae', 'Genus': 'Ameerega', 'Species': 'Ameeregatrivittata'}, 2: {'Family': 'Hylidae', 'Genus': 'Hypsiboas', 'Species': 'HypsiboasCinerascens'}, 3: {'Family': 'Hylidae', 'Genus': 'Hypsiboas', 'Species': 'HypsiboasCordobae'}}\n",
      "avg hamming loss= 0.22242297892054666\n",
      "avg hamming distance= 0.66726893676164\n",
      "avg hamming score 0.7775770210794534\n",
      "14 :\n",
      "best k= 4  with score of 0.3787509343305295\n",
      "majority labels= {0: {'Family': 'Leptodactylidae', 'Genus': 'Adenomera', 'Species': 'AdenomeraHylaedactylus'}, 1: {'Family': 'Hylidae', 'Genus': 'Hypsiboas', 'Species': 'HypsiboasCinerascens'}, 2: {'Family': 'Hylidae', 'Genus': 'Hypsiboas', 'Species': 'HypsiboasCordobae'}, 3: {'Family': 'Dendrobatidae', 'Genus': 'Ameerega', 'Species': 'Ameeregatrivittata'}}\n",
      "avg hamming loss= 0.22242297892054666\n",
      "avg hamming distance= 0.66726893676164\n",
      "avg hamming score 0.7775770210794534\n",
      "15 :\n",
      "best k= 4  with score of 0.38525558106940394\n",
      "majority labels= {0: {'Family': 'Dendrobatidae', 'Genus': 'Ameerega', 'Species': 'Ameeregatrivittata'}, 1: {'Family': 'Leptodactylidae', 'Genus': 'Adenomera', 'Species': 'AdenomeraHylaedactylus'}, 2: {'Family': 'Hylidae', 'Genus': 'Hypsiboas', 'Species': 'HypsiboasCordobae'}, 3: {'Family': 'Hylidae', 'Genus': 'Hypsiboas', 'Species': 'HypsiboasCinerascens'}}\n",
      "avg hamming loss= 0.2217743803567292\n",
      "avg hamming distance= 0.6653231410701876\n",
      "avg hamming score 0.7782256196432709\n",
      "16 :\n",
      "best k= 4  with score of 0.3788646212055977\n",
      "majority labels= {0: {'Family': 'Leptodactylidae', 'Genus': 'Adenomera', 'Species': 'AdenomeraHylaedactylus'}, 1: {'Family': 'Dendrobatidae', 'Genus': 'Ameerega', 'Species': 'Ameeregatrivittata'}, 2: {'Family': 'Hylidae', 'Genus': 'Hypsiboas', 'Species': 'HypsiboasCordobae'}, 3: {'Family': 'Hylidae', 'Genus': 'Hypsiboas', 'Species': 'HypsiboasCinerascens'}}\n",
      "avg hamming loss= 0.22214500810748203\n",
      "avg hamming distance= 0.6664350243224462\n",
      "avg hamming score 0.7778549918925179\n",
      "17 :\n",
      "best k= 4  with score of 0.3789535439442264\n",
      "majority labels= {0: {'Family': 'Leptodactylidae', 'Genus': 'Adenomera', 'Species': 'AdenomeraHylaedactylus'}, 1: {'Family': 'Hylidae', 'Genus': 'Hypsiboas', 'Species': 'HypsiboasCordobae'}, 2: {'Family': 'Hylidae', 'Genus': 'Hypsiboas', 'Species': 'HypsiboasCinerascens'}, 3: {'Family': 'Dendrobatidae', 'Genus': 'Ameerega', 'Species': 'Ameeregatrivittata'}}\n",
      "avg hamming loss= 0.22242297892054666\n",
      "avg hamming distance= 0.66726893676164\n",
      "avg hamming score 0.7775770210794534\n",
      "18 :\n",
      "best k= 4  with score of 0.3787509343305295\n",
      "majority labels= {0: {'Family': 'Dendrobatidae', 'Genus': 'Ameerega', 'Species': 'Ameeregatrivittata'}, 1: {'Family': 'Hylidae', 'Genus': 'Hypsiboas', 'Species': 'HypsiboasCordobae'}, 2: {'Family': 'Leptodactylidae', 'Genus': 'Adenomera', 'Species': 'AdenomeraHylaedactylus'}, 3: {'Family': 'Hylidae', 'Genus': 'Hypsiboas', 'Species': 'HypsiboasCinerascens'}}\n",
      "avg hamming loss= 0.22242297892054666\n",
      "avg hamming distance= 0.66726893676164\n",
      "avg hamming score 0.7775770210794534\n",
      "19 :\n",
      "best k= 4  with score of 0.3787509343305295\n",
      "majority labels= {0: {'Family': 'Hylidae', 'Genus': 'Hypsiboas', 'Species': 'HypsiboasCinerascens'}, 1: {'Family': 'Leptodactylidae', 'Genus': 'Adenomera', 'Species': 'AdenomeraHylaedactylus'}, 2: {'Family': 'Hylidae', 'Genus': 'Hypsiboas', 'Species': 'HypsiboasCordobae'}, 3: {'Family': 'Dendrobatidae', 'Genus': 'Ameerega', 'Species': 'Ameeregatrivittata'}}\n",
      "avg hamming loss= 0.2219133657632615\n",
      "avg hamming distance= 0.6657400972897846\n",
      "avg hamming score 0.7780866342367385\n",
      "20 :\n",
      "best k= 4  with score of 0.378818334719861\n",
      "majority labels= {0: {'Family': 'Dendrobatidae', 'Genus': 'Ameerega', 'Species': 'Ameeregatrivittata'}, 1: {'Family': 'Leptodactylidae', 'Genus': 'Adenomera', 'Species': 'AdenomeraHylaedactylus'}, 2: {'Family': 'Hylidae', 'Genus': 'Hypsiboas', 'Species': 'HypsiboasCinerascens'}, 3: {'Family': 'Hylidae', 'Genus': 'Hypsiboas', 'Species': 'HypsiboasCordobae'}}\n",
      "avg hamming loss= 0.22246930738939075\n",
      "avg hamming distance= 0.6674079221681724\n",
      "avg hamming score 0.7775306926106093\n",
      "21 :\n",
      "best k= 4  with score of 0.3787509343305295\n",
      "majority labels= {0: {'Family': 'Hylidae', 'Genus': 'Hypsiboas', 'Species': 'HypsiboasCordobae'}, 1: {'Family': 'Leptodactylidae', 'Genus': 'Adenomera', 'Species': 'AdenomeraHylaedactylus'}, 2: {'Family': 'Dendrobatidae', 'Genus': 'Ameerega', 'Species': 'Ameeregatrivittata'}, 3: {'Family': 'Hylidae', 'Genus': 'Hypsiboas', 'Species': 'HypsiboasCinerascens'}}\n",
      "avg hamming loss= 0.22246930738939075\n",
      "avg hamming distance= 0.6674079221681724\n",
      "avg hamming score 0.7775306926106093\n",
      "22 :\n",
      "best k= 4  with score of 0.3788646212055977\n",
      "majority labels= {0: {'Family': 'Leptodactylidae', 'Genus': 'Adenomera', 'Species': 'AdenomeraHylaedactylus'}, 1: {'Family': 'Hylidae', 'Genus': 'Hypsiboas', 'Species': 'HypsiboasCinerascens'}, 2: {'Family': 'Dendrobatidae', 'Genus': 'Ameerega', 'Species': 'Ameeregatrivittata'}, 3: {'Family': 'Hylidae', 'Genus': 'Hypsiboas', 'Species': 'HypsiboasCordobae'}}\n",
      "avg hamming loss= 0.22246930738939075\n",
      "avg hamming distance= 0.6674079221681724\n",
      "avg hamming score 0.7775306926106093\n",
      "23 :\n",
      "best k= 4  with score of 0.38523395202479643\n",
      "majority labels= {0: {'Family': 'Hylidae', 'Genus': 'Hypsiboas', 'Species': 'HypsiboasCordobae'}, 1: {'Family': 'Leptodactylidae', 'Genus': 'Adenomera', 'Species': 'AdenomeraHylaedactylus'}, 2: {'Family': 'Hylidae', 'Genus': 'Hypsiboas', 'Species': 'HypsiboasCinerascens'}, 3: {'Family': 'Dendrobatidae', 'Genus': 'Ameerega', 'Species': 'Ameeregatrivittata'}}\n",
      "avg hamming loss= 0.22242297892054666\n",
      "avg hamming distance= 0.66726893676164\n",
      "avg hamming score 0.7775770210794534\n",
      "24 :\n",
      "best k= 4  with score of 0.3788974185180753\n",
      "majority labels= {0: {'Family': 'Dendrobatidae', 'Genus': 'Ameerega', 'Species': 'Ameeregatrivittata'}, 1: {'Family': 'Leptodactylidae', 'Genus': 'Adenomera', 'Species': 'AdenomeraHylaedactylus'}, 2: {'Family': 'Hylidae', 'Genus': 'Hypsiboas', 'Species': 'HypsiboasCordobae'}, 3: {'Family': 'Hylidae', 'Genus': 'Hypsiboas', 'Species': 'HypsiboasCinerascens'}}\n",
      "avg hamming loss= 0.22242297892054666\n",
      "avg hamming distance= 0.66726893676164\n",
      "avg hamming score 0.7775770210794534\n",
      "25 :\n",
      "best k= 3  with score of 0.36768245219926315\n",
      "majority labels= {0: {'Family': 'Leptodactylidae', 'Genus': 'Adenomera', 'Species': 'AdenomeraHylaedactylus'}, 1: {'Family': 'Hylidae', 'Genus': 'Hypsiboas', 'Species': 'HypsiboasCordobae'}, 2: {'Family': 'Hylidae', 'Genus': 'Hypsiboas', 'Species': 'HypsiboasCordobae'}}\n",
      "avg hamming loss= 0.2968264998841788\n",
      "avg hamming distance= 0.8904794996525365\n",
      "avg hamming score 0.7031735001158212\n",
      "26 :\n",
      "best k= 4  with score of 0.3787509343305295\n",
      "majority labels= {0: {'Family': 'Leptodactylidae', 'Genus': 'Adenomera', 'Species': 'AdenomeraAndre'}, 1: {'Family': 'Hylidae', 'Genus': 'Hypsiboas', 'Species': 'HypsiboasCordobae'}, 2: {'Family': 'Leptodactylidae', 'Genus': 'Adenomera', 'Species': 'AdenomeraHylaedactylus'}, 3: {'Family': 'Hylidae', 'Genus': 'Hypsiboas', 'Species': 'HypsiboasCordobae'}}\n",
      "avg hamming loss= 0.24771832290942783\n",
      "avg hamming distance= 0.7431549687282836\n",
      "avg hamming score 0.7522816770905721\n",
      "27 :\n",
      "best k= 4  with score of 0.3787509343305295\n",
      "majority labels= {0: {'Family': 'Dendrobatidae', 'Genus': 'Ameerega', 'Species': 'Ameeregatrivittata'}, 1: {'Family': 'Leptodactylidae', 'Genus': 'Adenomera', 'Species': 'AdenomeraHylaedactylus'}, 2: {'Family': 'Hylidae', 'Genus': 'Hypsiboas', 'Species': 'HypsiboasCinerascens'}, 3: {'Family': 'Hylidae', 'Genus': 'Hypsiboas', 'Species': 'HypsiboasCordobae'}}\n",
      "avg hamming loss= 0.22242297892054666\n",
      "avg hamming distance= 0.66726893676164\n",
      "avg hamming score 0.7775770210794534\n",
      "28 :\n",
      "best k= 4  with score of 0.38523395202479643\n",
      "majority labels= {0: {'Family': 'Hylidae', 'Genus': 'Hypsiboas', 'Species': 'HypsiboasCinerascens'}, 1: {'Family': 'Leptodactylidae', 'Genus': 'Adenomera', 'Species': 'AdenomeraHylaedactylus'}, 2: {'Family': 'Dendrobatidae', 'Genus': 'Ameerega', 'Species': 'Ameeregatrivittata'}, 3: {'Family': 'Hylidae', 'Genus': 'Hypsiboas', 'Species': 'HypsiboasCordobae'}}\n",
      "avg hamming loss= 0.22242297892054666\n",
      "avg hamming distance= 0.66726893676164\n",
      "avg hamming score 0.7775770210794534\n",
      "29 :\n",
      "best k= 4  with score of 0.3787509343305295\n",
      "majority labels= {0: {'Family': 'Hylidae', 'Genus': 'Hypsiboas', 'Species': 'HypsiboasCordobae'}, 1: {'Family': 'Hylidae', 'Genus': 'Hypsiboas', 'Species': 'HypsiboasCinerascens'}, 2: {'Family': 'Leptodactylidae', 'Genus': 'Adenomera', 'Species': 'AdenomeraHylaedactylus'}, 3: {'Family': 'Dendrobatidae', 'Genus': 'Ameerega', 'Species': 'Ameeregatrivittata'}}\n",
      "avg hamming loss= 0.22242297892054666\n",
      "avg hamming distance= 0.66726893676164\n",
      "avg hamming score 0.7775770210794534\n",
      "30 :\n",
      "best k= 4  with score of 0.37867825251598397\n",
      "majority labels= {0: {'Family': 'Hylidae', 'Genus': 'Hypsiboas', 'Species': 'HypsiboasCinerascens'}, 1: {'Family': 'Leptodactylidae', 'Genus': 'Adenomera', 'Species': 'AdenomeraHylaedactylus'}, 2: {'Family': 'Dendrobatidae', 'Genus': 'Ameerega', 'Species': 'Ameeregatrivittata'}, 3: {'Family': 'Hylidae', 'Genus': 'Hypsiboas', 'Species': 'HypsiboasCordobae'}}\n",
      "avg hamming loss= 0.22242297892054666\n",
      "avg hamming distance= 0.66726893676164\n",
      "avg hamming score 0.7775770210794534\n",
      "31 :\n",
      "best k= 4  with score of 0.38525610514474284\n",
      "majority labels= {0: {'Family': 'Leptodactylidae', 'Genus': 'Adenomera', 'Species': 'AdenomeraHylaedactylus'}, 1: {'Family': 'Dendrobatidae', 'Genus': 'Ameerega', 'Species': 'Ameeregatrivittata'}, 2: {'Family': 'Hylidae', 'Genus': 'Hypsiboas', 'Species': 'HypsiboasCinerascens'}, 3: {'Family': 'Hylidae', 'Genus': 'Hypsiboas', 'Species': 'HypsiboasCordobae'}}\n",
      "avg hamming loss= 0.22242297892054666\n",
      "avg hamming distance= 0.66726893676164\n",
      "avg hamming score 0.7775770210794534\n",
      "32 :\n",
      "best k= 4  with score of 0.37866647707550904\n",
      "majority labels= {0: {'Family': 'Leptodactylidae', 'Genus': 'Adenomera', 'Species': 'AdenomeraHylaedactylus'}, 1: {'Family': 'Dendrobatidae', 'Genus': 'Ameerega', 'Species': 'Ameeregatrivittata'}, 2: {'Family': 'Hylidae', 'Genus': 'Hypsiboas', 'Species': 'HypsiboasCinerascens'}, 3: {'Family': 'Hylidae', 'Genus': 'Hypsiboas', 'Species': 'HypsiboasCordobae'}}\n",
      "avg hamming loss= 0.22242297892054666\n",
      "avg hamming distance= 0.66726893676164\n",
      "avg hamming score 0.7775770210794534\n",
      "33 :\n",
      "best k= 4  with score of 0.37863353074850936\n",
      "majority labels= {0: {'Family': 'Dendrobatidae', 'Genus': 'Ameerega', 'Species': 'Ameeregatrivittata'}, 1: {'Family': 'Leptodactylidae', 'Genus': 'Adenomera', 'Species': 'AdenomeraHylaedactylus'}, 2: {'Family': 'Hylidae', 'Genus': 'Hypsiboas', 'Species': 'HypsiboasCordobae'}, 3: {'Family': 'Hylidae', 'Genus': 'Hypsiboas', 'Species': 'HypsiboasCinerascens'}}\n",
      "avg hamming loss= 0.22242297892054666\n",
      "avg hamming distance= 0.66726893676164\n",
      "avg hamming score 0.7775770210794534\n",
      "34 :\n",
      "best k= 4  with score of 0.3787509343305295\n",
      "majority labels= {0: {'Family': 'Leptodactylidae', 'Genus': 'Adenomera', 'Species': 'AdenomeraHylaedactylus'}, 1: {'Family': 'Hylidae', 'Genus': 'Hypsiboas', 'Species': 'HypsiboasCordobae'}, 2: {'Family': 'Dendrobatidae', 'Genus': 'Ameerega', 'Species': 'Ameeregatrivittata'}, 3: {'Family': 'Hylidae', 'Genus': 'Hypsiboas', 'Species': 'HypsiboasCinerascens'}}\n",
      "avg hamming loss= 0.22242297892054666\n",
      "avg hamming distance= 0.66726893676164\n",
      "avg hamming score 0.7775770210794534\n",
      "35 :\n",
      "best k= 4  with score of 0.37474606152248774\n",
      "majority labels= {0: {'Family': 'Leptodactylidae', 'Genus': 'Adenomera', 'Species': 'AdenomeraHylaedactylus'}, 1: {'Family': 'Hylidae', 'Genus': 'Hypsiboas', 'Species': 'HypsiboasCinerascens'}, 2: {'Family': 'Hylidae', 'Genus': 'Hypsiboas', 'Species': 'HypsiboasCordobae'}, 3: {'Family': 'Dendrobatidae', 'Genus': 'Ameerega', 'Species': 'Ameeregatrivittata'}}\n",
      "avg hamming loss= 0.22242297892054666\n",
      "avg hamming distance= 0.66726893676164\n",
      "avg hamming score 0.7775770210794534\n",
      "36 :\n",
      "best k= 4  with score of 0.38404734963425025\n",
      "majority labels= {0: {'Family': 'Hylidae', 'Genus': 'Hypsiboas', 'Species': 'HypsiboasCordobae'}, 1: {'Family': 'Leptodactylidae', 'Genus': 'Adenomera', 'Species': 'AdenomeraHylaedactylus'}, 2: {'Family': 'Hylidae', 'Genus': 'Hypsiboas', 'Species': 'HypsiboasCinerascens'}, 3: {'Family': 'Dendrobatidae', 'Genus': 'Ameerega', 'Species': 'Ameeregatrivittata'}}\n",
      "avg hamming loss= 0.22242297892054666\n",
      "avg hamming distance= 0.66726893676164\n",
      "avg hamming score 0.7775770210794534\n",
      "37 :\n",
      "best k= 4  with score of 0.37863353074850936\n",
      "majority labels= {0: {'Family': 'Dendrobatidae', 'Genus': 'Ameerega', 'Species': 'Ameeregatrivittata'}, 1: {'Family': 'Leptodactylidae', 'Genus': 'Adenomera', 'Species': 'AdenomeraHylaedactylus'}, 2: {'Family': 'Hylidae', 'Genus': 'Hypsiboas', 'Species': 'HypsiboasCordobae'}, 3: {'Family': 'Hylidae', 'Genus': 'Hypsiboas', 'Species': 'HypsiboasCinerascens'}}\n",
      "avg hamming loss= 0.22242297892054666\n",
      "avg hamming distance= 0.66726893676164\n",
      "avg hamming score 0.7775770210794534\n",
      "38 :\n",
      "best k= 4  with score of 0.3788646212055977\n",
      "majority labels= {0: {'Family': 'Hylidae', 'Genus': 'Hypsiboas', 'Species': 'HypsiboasCordobae'}, 1: {'Family': 'Hylidae', 'Genus': 'Hypsiboas', 'Species': 'HypsiboasCinerascens'}, 2: {'Family': 'Leptodactylidae', 'Genus': 'Adenomera', 'Species': 'AdenomeraHylaedactylus'}, 3: {'Family': 'Dendrobatidae', 'Genus': 'Ameerega', 'Species': 'Ameeregatrivittata'}}\n",
      "avg hamming loss= 0.22242297892054666\n",
      "avg hamming distance= 0.66726893676164\n",
      "avg hamming score 0.7775770210794534\n",
      "39 :\n",
      "best k= 4  with score of 0.3787509343305295\n",
      "majority labels= {0: {'Family': 'Dendrobatidae', 'Genus': 'Ameerega', 'Species': 'Ameeregatrivittata'}, 1: {'Family': 'Hylidae', 'Genus': 'Hypsiboas', 'Species': 'HypsiboasCinerascens'}, 2: {'Family': 'Leptodactylidae', 'Genus': 'Adenomera', 'Species': 'AdenomeraHylaedactylus'}, 3: {'Family': 'Hylidae', 'Genus': 'Hypsiboas', 'Species': 'HypsiboasCordobae'}}\n",
      "avg hamming loss= 0.22242297892054666\n",
      "avg hamming distance= 0.66726893676164\n",
      "avg hamming score 0.7775770210794534\n",
      "40 :\n",
      "best k= 4  with score of 0.37867825251598397\n",
      "majority labels= {0: {'Family': 'Dendrobatidae', 'Genus': 'Ameerega', 'Species': 'Ameeregatrivittata'}, 1: {'Family': 'Hylidae', 'Genus': 'Hypsiboas', 'Species': 'HypsiboasCinerascens'}, 2: {'Family': 'Leptodactylidae', 'Genus': 'Adenomera', 'Species': 'AdenomeraHylaedactylus'}, 3: {'Family': 'Hylidae', 'Genus': 'Hypsiboas', 'Species': 'HypsiboasCordobae'}}\n",
      "avg hamming loss= 0.22242297892054666\n",
      "avg hamming distance= 0.66726893676164\n",
      "avg hamming score 0.7775770210794534\n",
      "41 :\n",
      "best k= 4  with score of 0.37866647707550904\n",
      "majority labels= {0: {'Family': 'Leptodactylidae', 'Genus': 'Adenomera', 'Species': 'AdenomeraHylaedactylus'}, 1: {'Family': 'Dendrobatidae', 'Genus': 'Ameerega', 'Species': 'Ameeregatrivittata'}, 2: {'Family': 'Hylidae', 'Genus': 'Hypsiboas', 'Species': 'HypsiboasCordobae'}, 3: {'Family': 'Hylidae', 'Genus': 'Hypsiboas', 'Species': 'HypsiboasCinerascens'}}\n",
      "avg hamming loss= 0.22242297892054666\n",
      "avg hamming distance= 0.66726893676164\n",
      "avg hamming score 0.7775770210794534\n",
      "42 :\n",
      "best k= 4  with score of 0.3787509343305295\n",
      "majority labels= {0: {'Family': 'Hylidae', 'Genus': 'Hypsiboas', 'Species': 'HypsiboasCordobae'}, 1: {'Family': 'Dendrobatidae', 'Genus': 'Ameerega', 'Species': 'Ameeregatrivittata'}, 2: {'Family': 'Leptodactylidae', 'Genus': 'Adenomera', 'Species': 'AdenomeraHylaedactylus'}, 3: {'Family': 'Hylidae', 'Genus': 'Hypsiboas', 'Species': 'HypsiboasCinerascens'}}\n",
      "avg hamming loss= 0.22246930738939075\n",
      "avg hamming distance= 0.6674079221681724\n",
      "avg hamming score 0.7775306926106093\n",
      "43 :\n",
      "best k= 4  with score of 0.3846107199101112\n",
      "majority labels= {0: {'Family': 'Leptodactylidae', 'Genus': 'Adenomera', 'Species': 'AdenomeraHylaedactylus'}, 1: {'Family': 'Hylidae', 'Genus': 'Hypsiboas', 'Species': 'HypsiboasCinerascens'}, 2: {'Family': 'Hylidae', 'Genus': 'Hypsiboas', 'Species': 'HypsiboasCordobae'}, 3: {'Family': 'Dendrobatidae', 'Genus': 'Ameerega', 'Species': 'Ameeregatrivittata'}}\n",
      "avg hamming loss= 0.22242297892054666\n",
      "avg hamming distance= 0.66726893676164\n",
      "avg hamming score 0.7775770210794534\n",
      "44 :\n",
      "best k= 4  with score of 0.3788646212055977\n",
      "majority labels= {0: {'Family': 'Leptodactylidae', 'Genus': 'Adenomera', 'Species': 'AdenomeraHylaedactylus'}, 1: {'Family': 'Hylidae', 'Genus': 'Hypsiboas', 'Species': 'HypsiboasCinerascens'}, 2: {'Family': 'Hylidae', 'Genus': 'Hypsiboas', 'Species': 'HypsiboasCordobae'}, 3: {'Family': 'Dendrobatidae', 'Genus': 'Ameerega', 'Species': 'Ameeregatrivittata'}}\n",
      "avg hamming loss= 0.22242297892054666\n",
      "avg hamming distance= 0.66726893676164\n",
      "avg hamming score 0.7775770210794534\n",
      "45 :\n",
      "best k= 4  with score of 0.3788646212055977\n",
      "majority labels= {0: {'Family': 'Dendrobatidae', 'Genus': 'Ameerega', 'Species': 'Ameeregatrivittata'}, 1: {'Family': 'Hylidae', 'Genus': 'Hypsiboas', 'Species': 'HypsiboasCordobae'}, 2: {'Family': 'Hylidae', 'Genus': 'Hypsiboas', 'Species': 'HypsiboasCinerascens'}, 3: {'Family': 'Leptodactylidae', 'Genus': 'Adenomera', 'Species': 'AdenomeraHylaedactylus'}}\n",
      "avg hamming loss= 0.22242297892054666\n",
      "avg hamming distance= 0.66726893676164\n",
      "avg hamming score 0.7775770210794534\n",
      "46 :\n",
      "best k= 4  with score of 0.37866647707550904\n",
      "majority labels= {0: {'Family': 'Hylidae', 'Genus': 'Hypsiboas', 'Species': 'HypsiboasCinerascens'}, 1: {'Family': 'Leptodactylidae', 'Genus': 'Adenomera', 'Species': 'AdenomeraHylaedactylus'}, 2: {'Family': 'Hylidae', 'Genus': 'Hypsiboas', 'Species': 'HypsiboasCordobae'}, 3: {'Family': 'Dendrobatidae', 'Genus': 'Ameerega', 'Species': 'Ameeregatrivittata'}}\n",
      "avg hamming loss= 0.22242297892054666\n",
      "avg hamming distance= 0.66726893676164\n",
      "avg hamming score 0.7775770210794534\n",
      "47 :\n",
      "best k= 4  with score of 0.3787509343305295\n",
      "majority labels= {0: {'Family': 'Leptodactylidae', 'Genus': 'Adenomera', 'Species': 'AdenomeraHylaedactylus'}, 1: {'Family': 'Hylidae', 'Genus': 'Hypsiboas', 'Species': 'HypsiboasCinerascens'}, 2: {'Family': 'Hylidae', 'Genus': 'Hypsiboas', 'Species': 'HypsiboasCordobae'}, 3: {'Family': 'Dendrobatidae', 'Genus': 'Ameerega', 'Species': 'Ameeregatrivittata'}}\n",
      "avg hamming loss= 0.22246930738939075\n",
      "avg hamming distance= 0.6674079221681724\n",
      "avg hamming score 0.7775306926106093\n",
      "48 :\n",
      "best k= 4  with score of 0.3787509343305295\n",
      "majority labels= {0: {'Family': 'Hylidae', 'Genus': 'Hypsiboas', 'Species': 'HypsiboasCordobae'}, 1: {'Family': 'Hylidae', 'Genus': 'Hypsiboas', 'Species': 'HypsiboasCinerascens'}, 2: {'Family': 'Leptodactylidae', 'Genus': 'Adenomera', 'Species': 'AdenomeraHylaedactylus'}, 3: {'Family': 'Dendrobatidae', 'Genus': 'Ameerega', 'Species': 'Ameeregatrivittata'}}\n",
      "avg hamming loss= 0.22242297892054666\n",
      "avg hamming distance= 0.66726893676164\n",
      "avg hamming score 0.7775770210794534\n",
      "49 :\n",
      "best k= 4  with score of 0.3787509343305295\n",
      "majority labels= {0: {'Family': 'Leptodactylidae', 'Genus': 'Adenomera', 'Species': 'AdenomeraHylaedactylus'}, 1: {'Family': 'Hylidae', 'Genus': 'Hypsiboas', 'Species': 'HypsiboasCordobae'}, 2: {'Family': 'Hylidae', 'Genus': 'Hypsiboas', 'Species': 'HypsiboasCinerascens'}, 3: {'Family': 'Dendrobatidae', 'Genus': 'Ameerega', 'Species': 'Ameeregatrivittata'}}\n",
      "avg hamming loss= 0.22242297892054666\n",
      "avg hamming distance= 0.66726893676164\n",
      "avg hamming score 0.7775770210794534\n"
     ]
    }
   ],
   "source": [
    "monte_hamming=[]\n",
    "import warnings\n",
    "warnings.filterwarnings(\"ignore\", category=FutureWarning, module=\"sklearn\")\n",
    "\n",
    "for i in range(0,50):\n",
    "    warnings.filterwarnings(\"ignore\", category=FutureWarning, module=\"sklearn\")\n",
    "\n",
    "    print(i,':')\n",
    "    best_k, best_score=my_best_k()\n",
    "    \n",
    "    print('best k=',best_k,' with score of',best_score)\n",
    "    clusterer=KMeans(n_clusters=best_k)\n",
    "    pred=clusterer.fit_predict(X)\n",
    "    center=clusterer.cluster_centers_\n",
    "    pred_labels=dict()\n",
    "\n",
    "    for k in range(best_k):\n",
    "        pred_labels[k]=dict()\n",
    "        for col in cols:\n",
    "            pred_labels[k][col]=dict()\n",
    "\n",
    "    for i in range(len(pred)):\n",
    "        k=pred[i]\n",
    "        for col in cols:\n",
    "            true=data.iloc[i][col]\n",
    "            pred_labels[k][col][true]=pred_labels[k][col].get(true,0)+1\n",
    "    majority_labels=dict()\n",
    "    for k in pred_labels:\n",
    "        majority_labels[k]=dict()\n",
    "        for col in cols:\n",
    "            majority,major_class=0,'wrong'\n",
    "\n",
    "            for key in pred_labels[k][col]:\n",
    "                val=pred_labels[k][col][key]\n",
    "                if val>majority:\n",
    "                    majority=val\n",
    "                    major_class=key\n",
    "\n",
    "            majority_labels[k][col]=major_class\n",
    "\n",
    "    print('majority labels=',majority_labels)\n",
    "    hamming_loss_arr=[]\n",
    "    hamming_distance_arr=[]\n",
    "    for i in range(len(data)):\n",
    "        hamming_loss_arr.append(cluster_hamming_loss(data[cols].iloc[i],majority_labels[pred[i]]))\n",
    "        hamming_distance_arr.append(cluster_hamming_distance(data[cols].iloc[i],majority_labels[pred[i]]))\n",
    "    \n",
    "    avg_hamming_loss=np.mean(hamming_loss_arr)\n",
    "    avg_hamming_distance=np.mean(hamming_distance_arr)\n",
    "    print('avg hamming loss=',avg_hamming_loss)\n",
    "    print('avg hamming distance=',avg_hamming_distance)\n",
    "    print('avg hamming score',1-avg_hamming_loss)\n",
    "    monte_hamming.append(avg_hamming_distance)"
   ]
  },
  {
   "cell_type": "code",
   "execution_count": 12,
   "metadata": {},
   "outputs": [
    {
     "name": "stdout",
     "output_type": "stream",
     "text": [
      "avg of hamming distance= 0.6783349548297426\n",
      "sd of hamming distance = 0.04482047186535554\n"
     ]
    }
   ],
   "source": [
    "print('avg of hamming distance=',np.mean(monte_hamming))\n",
    "print('sd of hamming distance =',np.std(monte_hamming))"
   ]
  },
  {
   "cell_type": "markdown",
   "metadata": {},
   "source": [
    "## 3. ISLR 12.6.2"
   ]
  },
  {
   "cell_type": "markdown",
   "metadata": {},
   "source": [
    "![Alt text](image.png)"
   ]
  }
 ],
 "metadata": {
  "kernelspec": {
   "display_name": "Python 3",
   "language": "python",
   "name": "python3"
  },
  "language_info": {
   "codemirror_mode": {
    "name": "ipython",
    "version": 3
   },
   "file_extension": ".py",
   "mimetype": "text/x-python",
   "name": "python",
   "nbconvert_exporter": "python",
   "pygments_lexer": "ipython3",
   "version": "3.11.4"
  },
  "orig_nbformat": 4,
  "vscode": {
   "interpreter": {
    "hash": "3c20c2d94d2527936fe0f3a300eb11db30fed84423423838e2f93b74eb7aaebc"
   }
  }
 },
 "nbformat": 4,
 "nbformat_minor": 2
}
